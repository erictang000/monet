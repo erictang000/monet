{
 "cells": [
  {
   "cell_type": "code",
   "execution_count": 10,
   "metadata": {},
   "outputs": [],
   "source": [
    "import numpy as np\n",
    "from keras.models import Model, load_model\n",
    "from keras.layers import Dense,BatchNormalization,Conv1D\n",
    "from keras.layers import Input,GlobalMaxPooling1D,concatenate\n",
    "from keras.optimizers import Adam\n",
    "from utils import generate, generate_sim, OrnsteinUng\n",
    "import tensorflow as tf\n",
    "from keras.callbacks import EarlyStopping,ReduceLROnPlateau,ModelCheckpoint,CSVLogger\n",
    "import datetime\n",
    "from keras.callbacks import History \n",
    "import matplotlib.pyplot as plt\n",
    "import pickle\n",
    "import glob\n",
    "import os"
   ]
  },
  {
   "cell_type": "code",
   "execution_count": 39,
   "metadata": {},
   "outputs": [
    {
     "name": "stdout",
     "output_type": "stream",
     "text": [
      "[(10, 0.668749988079071), (15, 0.7281249761581421), (20, 0.7562500238418579), (30, 0.800000011920929), (31, 0.78125), (32, 0.793749988079071), (33, 0.796875), (34, 0.800000011920929), (35, 0.8125), (40, 0.8343750238418579), (49, 0.831250011920929), (50, 0.8218749761581421), (51, 0.84375), (60, 0.862500011920929), (70, 0.815625011920929), (80, 0.8812500238418579), (90, 0.878125011920929), (100, 0.859375), (300, 0.940625011920929)]\n",
      "[10, 15, 20, 30, 31, 32, 33, 34, 35, 40, 49, 50, 51, 60, 70, 80, 90, 100, 300]\n",
      "[0.668749988079071, 0.7281249761581421, 0.7562500238418579, 0.800000011920929, 0.78125, 0.793749988079071, 0.796875, 0.800000011920929, 0.8125, 0.8343750238418579, 0.831250011920929, 0.8218749761581421, 0.84375, 0.862500011920929, 0.815625011920929, 0.8812500238418579, 0.878125011920929, 0.859375, 0.940625011920929]\n"
     ]
    },
    {
     "data": {
      "text/plain": [
       "[<matplotlib.lines.Line2D at 0x17d94567898>]"
      ]
     },
     "execution_count": 39,
     "metadata": {},
     "output_type": "execute_result"
    },
    {
     "data": {
      "image/png": "[encoded data removed]",
      "text/plain": [
       "<Figure size 432x288 with 1 Axes>"
      ]
     },
     "metadata": {
      "needs_background": "light"
     },
     "output_type": "display_data"
    }
   ],
   "source": [
    "plt.figure()\n",
    "sizes = []\n",
    "max_val_acc = []\n",
    "\n",
    "dir_path = os.getcwd()\n",
    "matching_files = glob.glob( dir_path +\"\\*_history*\")\n",
    "\n",
    "for file in matching_files:\n",
    "    with open(file, 'rb') as handle:\n",
    "        history = pickle.loads(handle.read())\n",
    "        train_loss = history['loss']\n",
    "        val_loss   = history['val_loss']\n",
    "        train_acc  = history['acc']\n",
    "        val_acc    = history['val_acc']\n",
    "        \n",
    "        max_val_acc.append(max(val_acc))\n",
    "    string = [s for s in file if s.isdigit()]\n",
    "    actualstring = \"\"\n",
    "    for s in string:\n",
    "        actualstring += s\n",
    "    sizes.append(int(actualstring))\n",
    "zipped = zip(sizes, max_val_acc)\n",
    "sorted_pairs = sorted(zipped)\n",
    "sizes = [sorted_pairs[i][0] for i in range(len(sorted_pairs))]\n",
    "max_val_acc = [sorted_pairs[i][1] for i in range(len(sorted_pairs))]\n",
    "\n",
    "print(sorted_pairs)\n",
    "print(sizes)\n",
    "print(max_val_acc)\n",
    "plt.xlabel(\"number of training steps\")\n",
    "plt.ylabel(\"validation accuracy\")\n",
    "plt.title(\"Training steps vs max validation accuracy\")\n",
    "plt.plot(sizes, max_val_acc)\n",
    "\n",
    "#         plt.plot(xc, val_loss, label=\"validation loss\")\n",
    "#         plt.legend()"
   ]
  },
  {
   "cell_type": "code",
   "execution_count": 22,
   "metadata": {},
   "outputs": [],
   "source": [
    "def classification_on_sim(net_file, num_steps):\n",
    "    dx,label=generate_sim(batchsize=100,steps=num_steps,T=15,sigma=0.00)\n",
    "    ### change here to load a different network model\n",
    "    print(dx)\n",
    "    N=np.shape(dx)[0]\n",
    "#     net_file = './Models/model_testsigma0-wB-6layern-300-variance-FBMCTRW.h5'\n",
    "    model = load_model(net_file)\n",
    "    predictions = []\n",
    "    for j in range(N):\n",
    "        dummy = np.zeros((1,num_steps-1,1))\n",
    "        dummy[0,:,:] = dx[j,:,:]\n",
    "        y_pred = model.predict(dummy) # get the results for 1D \n",
    "        print(y_pred)\n",
    "        ymean = np.mean(y_pred,axis=0) # calculate mean prediction of N-dimensional trajectory \n",
    "        prediction = np.argmax(ymean,axis=0) # translate to classification\n",
    "        predictions.append(prediction)\n",
    "\n",
    "    accuracy = 100 * np.sum([1 if label[i] == predictions[i] else 0 for i in range(len(label))]) / len(label)\n",
    "    return accuracy\n"
   ]
  },
  {
   "cell_type": "code",
   "execution_count": 23,
   "metadata": {
    "scrolled": false
   },
   "outputs": [
    {
     "name": "stdout",
     "output_type": "stream",
     "text": [
      "[[[ 0.        ]\n",
      "  [ 0.        ]\n",
      "  [ 0.        ]\n",
      "  ...\n",
      "  [ 0.        ]\n",
      "  [ 0.        ]\n",
      "  [ 0.        ]]\n",
      "\n",
      " [[ 0.        ]\n",
      "  [ 0.10077603]\n",
      "  [ 1.01492113]\n",
      "  ...\n",
      "  [ 0.        ]\n",
      "  [ 0.        ]\n",
      "  [ 0.        ]]\n",
      "\n",
      " [[-2.33335373]\n",
      "  [ 0.        ]\n",
      "  [ 0.        ]\n",
      "  ...\n",
      "  [ 0.        ]\n",
      "  [ 0.        ]\n",
      "  [ 0.        ]]\n",
      "\n",
      " ...\n",
      "\n",
      " [[ 0.        ]\n",
      "  [ 0.        ]\n",
      "  [ 0.        ]\n",
      "  ...\n",
      "  [ 0.        ]\n",
      "  [ 0.        ]\n",
      "  [ 0.        ]]\n",
      "\n",
      " [[-0.3988092 ]\n",
      "  [ 0.40503002]\n",
      "  [-0.43279118]\n",
      "  ...\n",
      "  [ 0.27990043]\n",
      "  [-0.27671639]\n",
      "  [ 0.50046888]]\n",
      "\n",
      " [[ 0.        ]\n",
      "  [ 0.        ]\n",
      "  [ 0.        ]\n",
      "  ...\n",
      "  [ 0.        ]\n",
      "  [ 0.        ]\n",
      "  [ 0.        ]]]\n",
      "[[0.18749148 0.33819774 0.47431076]]\n",
      "[[0.00462613 0.02028624 0.97508764]]\n",
      "[[0.00185184 0.00700784 0.9911403 ]]\n",
      "[[0.18749148 0.33819774 0.47431076]]\n",
      "[[0.43998116 0.52153945 0.03847945]]\n",
      "[[0.18749148 0.33819774 0.47431076]]\n",
      "[[0.52524626 0.42791384 0.04683989]]\n",
      "[[0.40487963 0.39813885 0.19698149]]\n",
      "[[0.18749148 0.33819774 0.47431076]]\n",
      "[[0.3541185  0.51471114 0.13117042]]\n",
      "[[0.18749148 0.33819774 0.47431076]]\n",
      "[[0.89862096 0.09798702 0.00339197]]\n",
      "[[0.46708593 0.48240894 0.05050516]]\n",
      "[[0.18749148 0.33819774 0.47431076]]\n",
      "[[0.4035242  0.5538416  0.04263426]]\n",
      "[[7.2050100e-04 6.2171514e-03 9.9306232e-01]]\n",
      "[[8.5182639e-10 1.5846545e-09 1.0000000e+00]]\n",
      "[[6.842143e-12 5.193878e-10 1.000000e+00]]\n",
      "[[0.61920005 0.3560771  0.02472282]]\n",
      "[[0.18749148 0.33819774 0.47431076]]\n",
      "[[0.61690325 0.3660339  0.01706288]]\n",
      "[[0.18749148 0.33819774 0.47431076]]\n",
      "[[0.9358396  0.06118912 0.00297128]]\n",
      "[[2.1811162e-11 6.5707974e-11 1.0000000e+00]]\n",
      "[[0.4896587  0.38349208 0.12684914]]\n",
      "[[1.4079455e-09 2.2729495e-07 9.9999976e-01]]\n",
      "[[4.829313e-13 8.024460e-12 1.000000e+00]]\n",
      "[[1.3692791e-09 9.9385453e-08 9.9999988e-01]]\n",
      "[[0.18749148 0.33819774 0.47431076]]\n",
      "[[0.03926452 0.0130382  0.9476973 ]]\n",
      "[[0.39694142 0.47180265 0.13125585]]\n",
      "[[1.0159552e-07 1.0189913e-09 9.9999988e-01]]\n",
      "[[0.18749148 0.33819774 0.47431076]]\n",
      "[[2.8737104e-13 8.7129444e-12 1.0000000e+00]]\n",
      "[[0.518274   0.40159324 0.08013283]]\n",
      "[[0.546398   0.41934678 0.03425529]]\n",
      "[[0.18749148 0.33819774 0.47431076]]\n",
      "[[0.36304095 0.4981492  0.13880984]]\n",
      "[[2.4214953e-04 3.1336359e-04 9.9944443e-01]]\n",
      "[[0.18749148 0.33819774 0.47431076]]\n",
      "[[0.18749148 0.33819774 0.47431076]]\n",
      "[[1.5037431e-05 2.1843525e-06 9.9998283e-01]]\n",
      "[[0.23069446 0.48555997 0.28374553]]\n",
      "[[0.18749148 0.33819774 0.47431076]]\n",
      "[[0.18749148 0.33819774 0.47431076]]\n",
      "[[0.6053798  0.3594392  0.03518094]]\n",
      "[[0.18749148 0.33819774 0.47431076]]\n",
      "[[0.18749148 0.33819774 0.47431076]]\n",
      "[[0.24236824 0.49339324 0.26423848]]\n",
      "[[2.7527203e-09 4.9759361e-09 1.0000000e+00]]\n",
      "[[0.5779401  0.40636036 0.01569951]]\n",
      "[[0.18749148 0.33819774 0.47431076]]\n",
      "[[0.18749148 0.33819774 0.47431076]]\n",
      "[[0.20990784 0.44907305 0.34101912]]\n",
      "[[0.6649128  0.3151494  0.01993774]]\n",
      "[[0.75577796 0.2316387  0.01258335]]\n",
      "[[0.32297018 0.47286323 0.20416655]]\n",
      "[[0.24564645 0.47111952 0.28323406]]\n",
      "[[0.23957776 0.47226292 0.2881593 ]]\n",
      "[[0.18749148 0.33819774 0.47431076]]\n",
      "[[2.9052484e-11 1.3044200e-15 1.0000000e+00]]\n",
      "[[1.0161537e-09 1.0671211e-07 9.9999988e-01]]\n",
      "[[1.3143117e-04 6.9680922e-02 9.3018764e-01]]\n",
      "[[0.18749148 0.33819774 0.47431076]]\n",
      "[[0.3132308  0.5135884  0.17318079]]\n",
      "[[0.25718695 0.5077636  0.23504949]]\n",
      "[[0.2766843  0.5326624  0.19065331]]\n",
      "[[0.18749148 0.33819774 0.47431076]]\n",
      "[[0.18749148 0.33819774 0.47431076]]\n",
      "[[0.04082716 0.30744094 0.65173197]]\n",
      "[[2.0792058e-06 6.8549497e-07 9.9999726e-01]]\n",
      "[[0.18749148 0.33819774 0.47431076]]\n",
      "[[2.7769740e-16 1.2244185e-13 1.0000000e+00]]\n",
      "[[0.33419883 0.550036   0.11576512]]\n",
      "[[0.00103519 0.04522073 0.95374405]]\n",
      "[[8.2231246e-08 1.6910677e-07 9.9999976e-01]]\n",
      "[[8.4893572e-06 4.9182818e-05 9.9994230e-01]]\n",
      "[[0.02613731 0.95055294 0.02330972]]\n",
      "[[0.18749148 0.33819774 0.47431076]]\n",
      "[[0.18749148 0.33819774 0.47431076]]\n",
      "[[0.40097028 0.43811724 0.16091244]]\n",
      "[[9.6652242e-10 1.6584595e-09 1.0000000e+00]]\n",
      "[[1.5527238e-02 3.3054099e-04 9.8414224e-01]]\n",
      "[[0.18749148 0.33819774 0.47431076]]\n",
      "[[1.6557848e-05 2.5342456e-07 9.9998319e-01]]\n",
      "[[0.9105678  0.08514844 0.00428375]]\n",
      "[[0.609379   0.37339738 0.01722369]]\n",
      "[[0.18749148 0.33819774 0.47431076]]\n",
      "[[0.18749148 0.33819774 0.47431076]]\n",
      "[[1.3524796e-04 1.4230088e-04 9.9972242e-01]]\n",
      "[[0.18749148 0.33819774 0.47431076]]\n",
      "[[0.18749148 0.33819774 0.47431076]]\n",
      "[[3.1572377e-05 1.0542553e-05 9.9995792e-01]]\n",
      "[[0.2542963  0.574092   0.17161173]]\n",
      "[[3.1016307e-14 2.1665927e-14 1.0000000e+00]]\n",
      "[[0.5440808  0.431001   0.02491815]]\n",
      "[[2.4475751e-03 9.8612145e-06 9.9754262e-01]]\n",
      "[[0.18749148 0.33819774 0.47431076]]\n",
      "[[0.5123715  0.41813347 0.06949503]]\n",
      "[[0.18749148 0.33819774 0.47431076]]\n",
      "[48.0]\n"
     ]
    }
   ],
   "source": [
    "accuracies = []\n",
    "# for i in range(10, 101, 10):\n",
    "accuracies.append(classification_on_sim('./Models/300_model.h5', 300))\n",
    "print(accuracies)"
   ]
  },
  {
   "cell_type": "code",
   "execution_count": 9,
   "metadata": {},
   "outputs": [
    {
     "data": {
      "text/plain": [
       "[<matplotlib.lines.Line2D at 0x1e81c375a90>]"
      ]
     },
     "execution_count": 9,
     "metadata": {},
     "output_type": "execute_result"
    },
    {
     "data": {
      "image/png": "[encoded data removed]",
      "text/plain": [
       "<Figure size 432x288 with 1 Axes>"
      ]
     },
     "metadata": {
      "needs_background": "light"
     },
     "output_type": "display_data"
    }
   ],
   "source": [
    "plt.xlabel(\"Number of steps trained on\")\n",
    "plt.ylabel(\"test accuracy\")\n",
    "plt.title(\"Training steps vs Testing accuracy\")\n",
    "plt.plot(range(10, 101, 10),accuracies)\n"
   ]
  },
  {
   "cell_type": "code",
   "execution_count": null,
   "metadata": {},
   "outputs": [],
   "source": []
  }
 ],
 "metadata": {
  "kernelspec": {
   "display_name": "Python 3",
   "language": "python",
   "name": "python3"
  },
  "language_info": {
   "codemirror_mode": {
    "name": "ipython",
    "version": 3
   },
   "file_extension": ".py",
   "mimetype": "text/x-python",
   "name": "python",
   "nbconvert_exporter": "python",
   "pygments_lexer": "ipython3",
   "version": "3.6.6"
  }
 },
 "nbformat": 4,
 "nbformat_minor": 4
}
