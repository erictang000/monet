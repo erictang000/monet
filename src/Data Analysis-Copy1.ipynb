{
 "cells": [
  {
   "cell_type": "code",
   "execution_count": 35,
   "metadata": {},
   "outputs": [],
   "source": [
    "import numpy as np\n",
    "from keras.models import Model\n",
    "from keras.layers import Dense,BatchNormalization,Conv1D\n",
    "from keras.layers import Input,GlobalMaxPooling1D, GlobalAveragePooling1D, concatenate\n",
    "from keras.optimizers import Adam\n",
    "import keras.backend as K\n",
    "\n",
    "from utils import generate\n",
    "from keras.callbacks import EarlyStopping,ReduceLROnPlateau,ModelCheckpoint,CSVLogger\n",
    "import datetime\n",
    "from keras.callbacks import History\n",
    "import matplotlib.pyplot as plt\n",
    "import pickle\n",
    "from keras.models import load_model\n",
    "\n",
    "from keras.applications.xception import preprocess_input"
   ]
  },
  {
   "cell_type": "code",
   "execution_count": 13,
   "metadata": {
    "scrolled": false
   },
   "outputs": [],
   "source": [
    "model = load_model('models/30_new_model.h5')"
   ]
  },
  {
   "cell_type": "code",
   "execution_count": 14,
   "metadata": {},
   "outputs": [
    {
     "name": "stdout",
     "output_type": "stream",
     "text": [
      "Model: \"model_3\"\n",
      "__________________________________________________________________________________________________\n",
      "Layer (type)                    Output Shape         Param #     Connected to                     \n",
      "==================================================================================================\n",
      "input_3 (InputLayer)            (None, 29, 1)        0                                            \n",
      "__________________________________________________________________________________________________\n",
      "conv1d_39 (Conv1D)              (None, 29, 32)       96          input_3[0][0]                    \n",
      "__________________________________________________________________________________________________\n",
      "conv1d_42 (Conv1D)              (None, 29, 32)       96          input_3[0][0]                    \n",
      "__________________________________________________________________________________________________\n",
      "conv1d_45 (Conv1D)              (None, 29, 32)       128         input_3[0][0]                    \n",
      "__________________________________________________________________________________________________\n",
      "conv1d_48 (Conv1D)              (None, 29, 32)       128         input_3[0][0]                    \n",
      "__________________________________________________________________________________________________\n",
      "conv1d_51 (Conv1D)              (None, 29, 32)       160         input_3[0][0]                    \n",
      "__________________________________________________________________________________________________\n",
      "batch_normalization_39 (BatchNo (None, 29, 32)       128         conv1d_39[0][0]                  \n",
      "__________________________________________________________________________________________________\n",
      "batch_normalization_42 (BatchNo (None, 29, 32)       128         conv1d_42[0][0]                  \n",
      "__________________________________________________________________________________________________\n",
      "batch_normalization_45 (BatchNo (None, 29, 32)       128         conv1d_45[0][0]                  \n",
      "__________________________________________________________________________________________________\n",
      "batch_normalization_48 (BatchNo (None, 29, 32)       128         conv1d_48[0][0]                  \n",
      "__________________________________________________________________________________________________\n",
      "batch_normalization_51 (BatchNo (None, 29, 32)       128         conv1d_51[0][0]                  \n",
      "__________________________________________________________________________________________________\n",
      "conv1d_40 (Conv1D)              (None, 29, 32)       2080        batch_normalization_39[0][0]     \n",
      "__________________________________________________________________________________________________\n",
      "conv1d_43 (Conv1D)              (None, 29, 32)       2080        batch_normalization_42[0][0]     \n",
      "__________________________________________________________________________________________________\n",
      "conv1d_46 (Conv1D)              (None, 29, 32)       3104        batch_normalization_45[0][0]     \n",
      "__________________________________________________________________________________________________\n",
      "conv1d_49 (Conv1D)              (None, 29, 32)       3104        batch_normalization_48[0][0]     \n",
      "__________________________________________________________________________________________________\n",
      "conv1d_52 (Conv1D)              (None, 29, 32)       4128        batch_normalization_51[0][0]     \n",
      "__________________________________________________________________________________________________\n",
      "batch_normalization_40 (BatchNo (None, 29, 32)       128         conv1d_40[0][0]                  \n",
      "__________________________________________________________________________________________________\n",
      "batch_normalization_43 (BatchNo (None, 29, 32)       128         conv1d_43[0][0]                  \n",
      "__________________________________________________________________________________________________\n",
      "batch_normalization_46 (BatchNo (None, 29, 32)       128         conv1d_46[0][0]                  \n",
      "__________________________________________________________________________________________________\n",
      "batch_normalization_49 (BatchNo (None, 29, 32)       128         conv1d_49[0][0]                  \n",
      "__________________________________________________________________________________________________\n",
      "batch_normalization_52 (BatchNo (None, 29, 32)       128         conv1d_52[0][0]                  \n",
      "__________________________________________________________________________________________________\n",
      "conv1d_41 (Conv1D)              (None, 29, 32)       2080        batch_normalization_40[0][0]     \n",
      "__________________________________________________________________________________________________\n",
      "conv1d_44 (Conv1D)              (None, 29, 32)       2080        batch_normalization_43[0][0]     \n",
      "__________________________________________________________________________________________________\n",
      "conv1d_47 (Conv1D)              (None, 29, 32)       3104        batch_normalization_46[0][0]     \n",
      "__________________________________________________________________________________________________\n",
      "conv1d_50 (Conv1D)              (None, 29, 32)       3104        batch_normalization_49[0][0]     \n",
      "__________________________________________________________________________________________________\n",
      "conv1d_53 (Conv1D)              (None, 29, 32)       4128        batch_normalization_52[0][0]     \n",
      "__________________________________________________________________________________________________\n",
      "conv1d_57 (Conv1D)              (None, 29, 32)       128         input_3[0][0]                    \n",
      "__________________________________________________________________________________________________\n",
      "batch_normalization_41 (BatchNo (None, 29, 32)       128         conv1d_41[0][0]                  \n",
      "__________________________________________________________________________________________________\n",
      "batch_normalization_44 (BatchNo (None, 29, 32)       128         conv1d_44[0][0]                  \n",
      "__________________________________________________________________________________________________\n",
      "batch_normalization_47 (BatchNo (None, 29, 32)       128         conv1d_47[0][0]                  \n",
      "__________________________________________________________________________________________________\n",
      "batch_normalization_50 (BatchNo (None, 29, 32)       128         conv1d_50[0][0]                  \n",
      "__________________________________________________________________________________________________\n",
      "batch_normalization_53 (BatchNo (None, 29, 32)       128         conv1d_53[0][0]                  \n",
      "__________________________________________________________________________________________________\n",
      "batch_normalization_57 (BatchNo (None, 29, 32)       128         conv1d_57[0][0]                  \n",
      "__________________________________________________________________________________________________\n",
      "global_average_pooling1d_15 (Gl (None, 32)           0           batch_normalization_41[0][0]     \n",
      "__________________________________________________________________________________________________\n",
      "global_average_pooling1d_16 (Gl (None, 32)           0           batch_normalization_44[0][0]     \n",
      "__________________________________________________________________________________________________\n",
      "global_average_pooling1d_17 (Gl (None, 32)           0           batch_normalization_47[0][0]     \n",
      "__________________________________________________________________________________________________\n",
      "global_average_pooling1d_18 (Gl (None, 32)           0           batch_normalization_50[0][0]     \n",
      "__________________________________________________________________________________________________\n",
      "global_average_pooling1d_19 (Gl (None, 32)           0           batch_normalization_53[0][0]     \n",
      "__________________________________________________________________________________________________\n",
      "global_average_pooling1d_21 (Gl (None, 32)           0           batch_normalization_57[0][0]     \n",
      "__________________________________________________________________________________________________\n",
      "concatenate_3 (Concatenate)     (None, 192)          0           global_average_pooling1d_15[0][0]\n",
      "                                                                 global_average_pooling1d_16[0][0]\n",
      "                                                                 global_average_pooling1d_17[0][0]\n",
      "                                                                 global_average_pooling1d_18[0][0]\n",
      "                                                                 global_average_pooling1d_19[0][0]\n",
      "                                                                 global_average_pooling1d_21[0][0]\n",
      "__________________________________________________________________________________________________\n",
      "dense_13 (Dense)                (None, 512)          98816       concatenate_3[0][0]              \n",
      "__________________________________________________________________________________________________\n",
      "dense_14 (Dense)                (None, 256)          131328      dense_13[0][0]                   \n",
      "__________________________________________________________________________________________________\n",
      "dense_15 (Dense)                (None, 128)          32896       dense_14[0][0]                   \n",
      "__________________________________________________________________________________________________\n",
      "dense_16 (Dense)                (None, 64)           8256        dense_15[0][0]                   \n",
      "__________________________________________________________________________________________________\n",
      "dense_17 (Dense)                (None, 32)           2080        dense_16[0][0]                   \n",
      "__________________________________________________________________________________________________\n",
      "dense_18 (Dense)                (None, 3)            99          dense_17[0][0]                   \n",
      "==================================================================================================\n",
      "Total params: 305,251\n",
      "Trainable params: 304,227\n",
      "Non-trainable params: 1,024\n",
      "__________________________________________________________________________________________________\n"
     ]
    }
   ],
   "source": [
    "model.summary()"
   ]
  },
  {
   "cell_type": "code",
   "execution_count": 134,
   "metadata": {},
   "outputs": [],
   "source": [
    "def make_gradcam_heatmap(track, model, last_conv_layer_name, pred_index=None):\n",
    "    # First, we create a model that maps the input image to the activations\n",
    "    # of the last conv layer as well as the output predictions\n",
    "#     print(model.get_layer(last_conv_layer_name).output)\n",
    "#     print(model.output)\n",
    "#     print(model.input)\n",
    "# #     deep_inputs = tf.keras.Input(tensor=(inputs))\n",
    "#     print(tf.convert_to_tensor(track))\n",
    "    grad_model = Model(\n",
    "        [model.input], [model.get_layer(last_conv_layer_name).output, model.output]\n",
    "    )\n",
    "    \n",
    "    # Then, we compute the gradient of the top predicted class for our input image\n",
    "    # with respect to the activations of the last conv layer\n",
    "#     with tf.GradientTape() as tape:\n",
    "    last_conv_layer_output, preds = grad_model(tf.cast(tf.convert_to_tensor(track), tf.float32))\n",
    "    if pred_index is None:\n",
    "        pred_index = tf.argmax(preds[0])\n",
    "    class_channel = preds[:, pred_index]\n",
    "    \n",
    "#     print(K.eval(class_channel))\n",
    "    # This is the gradient of the output neuron (top predicted or chosen)\n",
    "    # with regard to the output feature map of the last conv layer\n",
    "    grads = tf.gradients(class_channel, last_conv_layer_output)\n",
    "    \n",
    "#     print(K.eval(grads[0]))\n",
    "    # This is a vector where each entry is the mean intensity of the gradient\n",
    "    # over a specific feature map channel\n",
    "    pooled_grads = tf.reduce_mean(grads, axis=(0, 1, 2))\n",
    "\n",
    "    # We multiply each channel in the feature map array\n",
    "    # by \"how important this channel is\" with regard to the top predicted class\n",
    "    # then sum all the channels to obtain the heatmap class activation\n",
    "    last_conv_layer_output = last_conv_layer_output[0]\n",
    "    heatmap = last_conv_layer_output @ pooled_grads[..., tf.newaxis]\n",
    "    heatmap = tf.squeeze(heatmap)\n",
    "\n",
    "    # For visualization purpose, we will also normalize the heatmap between 0 & 1\n",
    "    heatmap = tf.maximum(heatmap, 0) / tf.math.reduce_max(heatmap)\n",
    "    return heatmap"
   ]
  },
  {
   "cell_type": "code",
   "execution_count": 154,
   "metadata": {
    "scrolled": false
   },
   "outputs": [
    {
     "name": "stdout",
     "output_type": "stream",
     "text": [
      "[[[-0.917]\n",
      "  [-1.063]\n",
      "  [-0.971]\n",
      "  [-1.020]\n",
      "  [-1.010]\n",
      "  [-0.982]\n",
      "  [-0.999]\n",
      "  [-1.003]\n",
      "  [-0.996]\n",
      "  [-0.991]\n",
      "  [-1.010]\n",
      "  [-0.988]\n",
      "  [-0.995]\n",
      "  [-0.992]\n",
      "  [-1.018]\n",
      "  [-0.973]\n",
      "  [-1.035]\n",
      "  [-1.067]\n",
      "  [-0.899]\n",
      "  [-1.072]\n",
      "  [-0.951]\n",
      "  [-0.977]\n",
      "  [-1.050]\n",
      "  [-0.957]\n",
      "  [-1.025]\n",
      "  [-0.949]\n",
      "  [-1.047]\n",
      "  [-0.990]\n",
      "  [-1.017]]]\n",
      "[[0.001 0.995 0.004]]\n",
      "Predicted: brownian\n"
     ]
    }
   ],
   "source": [
    "# Prepare track\n",
    "# preprocess_input = keras.applications.xception.preprocess_input\n",
    "track =np.loadtxt(\"em18tracks.txt\")[1]\n",
    "track = preprocess_input(track[None,:, None])\n",
    "\n",
    "print(track)\n",
    "# Remove last layer's softmax\n",
    "model.layers[-1].activation = None\n",
    "\n",
    "# # Print what the top predicted class is\n",
    "index_to_type = {0: \"fbm\", 1: \"brownian\", 2: \"ctrw\"}\n",
    "\n",
    "preds = model.predict(track)\n",
    "print(preds)\n",
    "print(\"Predicted:\", index_to_type[np.argmax(preds)])\n",
    "\n",
    "# # Generate class activation heatmap\n",
    "heatmap = make_gradcam_heatmap(track, model, \"conv1d_50\")\n",
    "\n",
    "arr = K.eval(heatmap)\n",
    "# # Display heatmap\n",
    "# plt.matshow(heatmap)\n",
    "plt.show()"
   ]
  },
  {
   "cell_type": "code",
   "execution_count": 143,
   "metadata": {},
   "outputs": [],
   "source": [
    "def _plot_score(vec, xticks):\n",
    "    _axis_fontsize=8\n",
    "    fig=plt.figure(figsize = (20,10))\n",
    "    plt.yticks([])\n",
    "#     float_formatter = \"{:.3f}\".format\n",
    "#     np.set_printoptions(formatter={'float_kind':float_formatter})\n",
    "#     print(xticks)\n",
    "    plt.xticks(range(0,len(vec)), xticks, fontsize=_axis_fontsize)\n",
    "    fig.add_subplot(1, 1, 1)\n",
    "    plt.figtext(x=0.13, y=0.54, s = \"Hi\",fontsize=5, fontname='sans-serif')\n",
    "    img = plt.imshow([vec], vmin=0, vmax=1)\n",
    "    plt.show()"
   ]
  },
  {
   "cell_type": "code",
   "execution_count": 144,
   "metadata": {},
   "outputs": [
    {
     "name": "stderr",
     "output_type": "stream",
     "text": [
      "C:\\Users\\eric_\\Anaconda3\\envs\\MoNet\\lib\\site-packages\\matplotlib\\cbook\\deprecation.py:107: MatplotlibDeprecationWarning: Adding an axes using the same arguments as a previous axes currently reuses the earlier instance.  In a future version, a new instance will always be created and returned.  Meanwhile, this warning can be suppressed, and the future behavior ensured, by passing a unique label to each axes instance.\n",
      "  warnings.warn(message, mplDeprecation, stacklevel=1)\n"
     ]
    },
    {
     "data": {
      "image/png": "[encoded data removed]",
      "text/plain": [
       "<Figure size 1440x720 with 1 Axes>"
      ]
     },
     "metadata": {
      "needs_background": "light"
     },
     "output_type": "display_data"
    }
   ],
   "source": [
    "_plot_score(arr, np.around(track.flatten(), decimals=3))"
   ]
  },
  {
   "cell_type": "code",
   "execution_count": 145,
   "metadata": {},
   "outputs": [
    {
     "name": "stdout",
     "output_type": "stream",
     "text": [
      "[0.000 0.000 0.054 0.150 0.031 0.001 0.202 0.143 0.439 0.448 0.403 0.758\n",
      " 0.820 0.715 0.931 1.000 0.891 0.857 0.819 0.816 0.779 0.838 0.823 0.753\n",
      " 0.836 0.817 0.745 0.854 0.793]\n"
     ]
    }
   ],
   "source": [
    "print(arr)"
   ]
  },
  {
   "cell_type": "code",
   "execution_count": 146,
   "metadata": {},
   "outputs": [
    {
     "name": "stdout",
     "output_type": "stream",
     "text": [
      "[-0.917 -1.063 -0.971 -1.020 -1.010 -0.982 -0.999 -1.003 -0.996 -0.991\n",
      " -1.010 -0.988 -0.995 -0.992 -1.018 -0.973 -1.035 -1.067 -0.899 -1.072\n",
      " -0.951 -0.977 -1.050 -0.957 -1.025 -0.949 -1.047 -0.990 -1.017]\n"
     ]
    }
   ],
   "source": [
    "print(track.flatten())"
   ]
  },
  {
   "cell_type": "code",
   "execution_count": null,
   "metadata": {},
   "outputs": [],
   "source": []
  }
 ],
 "metadata": {
  "kernelspec": {
   "display_name": "Python 3",
   "language": "python",
   "name": "python3"
  },
  "language_info": {
   "codemirror_mode": {
    "name": "ipython",
    "version": 3
   },
   "file_extension": ".py",
   "mimetype": "text/x-python",
   "name": "python",
   "nbconvert_exporter": "python",
   "pygments_lexer": "ipython3",
   "version": "3.6.6"
  }
 },
 "nbformat": 4,
 "nbformat_minor": 4
}
