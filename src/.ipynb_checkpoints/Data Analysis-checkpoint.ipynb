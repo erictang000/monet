{
 "cells": [
  {
   "cell_type": "code",
   "execution_count": 5,
   "metadata": {},
   "outputs": [],
   "source": [
    "import numpy as np\n",
    "from keras.models import Model, load_model\n",
    "from keras.layers import Dense,BatchNormalization,Conv1D\n",
    "from keras.layers import Input,GlobalMaxPooling1D,concatenate\n",
    "from keras.optimizers import Adam\n",
    "from utils import generate, generate_sim, OrnsteinUng\n",
    "import tensorflow as tf\n",
    "from keras.callbacks import EarlyStopping,ReduceLROnPlateau,ModelCheckpoint,CSVLogger\n",
    "import datetime\n",
    "from keras.callbacks import History \n",
    "import matplotlib.pyplot as plt\n",
    "import pickle\n",
    "import glob"
   ]
  },
  {
   "cell_type": "code",
   "execution_count": 7,
   "metadata": {},
   "outputs": [
    {
     "name": "stdout",
     "output_type": "stream",
     "text": [
      "[]\n",
      "[]\n"
     ]
    },
    {
     "ename": "ValueError",
     "evalue": "x and y must have same first dimension, but have shapes (11,) and (0,)",
     "output_type": "error",
     "traceback": [
      "\u001b[1;31m---------------------------------------------------------------------------\u001b[0m",
      "\u001b[1;31mValueError\u001b[0m                                Traceback (most recent call last)",
      "\u001b[1;32m<ipython-input-7-eb0f7d5919be>\u001b[0m in \u001b[0;36m<module>\u001b[1;34m\u001b[0m\n\u001b[0;32m     31\u001b[0m \u001b[0mplt\u001b[0m\u001b[1;33m.\u001b[0m\u001b[0mylabel\u001b[0m\u001b[1;33m(\u001b[0m\u001b[1;34m\"validation accuracy\"\u001b[0m\u001b[1;33m)\u001b[0m\u001b[1;33m\u001b[0m\u001b[0m\n\u001b[0;32m     32\u001b[0m \u001b[0mplt\u001b[0m\u001b[1;33m.\u001b[0m\u001b[0mtitle\u001b[0m\u001b[1;33m(\u001b[0m\u001b[1;34m\"Training steps vs max validation accuracy\"\u001b[0m\u001b[1;33m)\u001b[0m\u001b[1;33m\u001b[0m\u001b[0m\n\u001b[1;32m---> 33\u001b[1;33m \u001b[0mplt\u001b[0m\u001b[1;33m.\u001b[0m\u001b[0mplot\u001b[0m\u001b[1;33m(\u001b[0m\u001b[0mlist\u001b[0m\u001b[1;33m(\u001b[0m\u001b[0mrange\u001b[0m\u001b[1;33m(\u001b[0m\u001b[1;36m10\u001b[0m\u001b[1;33m,\u001b[0m \u001b[1;36m101\u001b[0m\u001b[1;33m,\u001b[0m \u001b[1;36m10\u001b[0m\u001b[1;33m)\u001b[0m\u001b[1;33m)\u001b[0m \u001b[1;33m+\u001b[0m \u001b[1;33m[\u001b[0m\u001b[1;36m300\u001b[0m\u001b[1;33m]\u001b[0m\u001b[1;33m,\u001b[0m\u001b[0mmax_val_acc\u001b[0m\u001b[1;33m)\u001b[0m\u001b[1;33m\u001b[0m\u001b[0m\n\u001b[0m\u001b[0;32m     34\u001b[0m \u001b[1;33m\u001b[0m\u001b[0m\n\u001b[0;32m     35\u001b[0m \u001b[1;31m#         plt.plot(xc, val_loss, label=\"validation loss\")\u001b[0m\u001b[1;33m\u001b[0m\u001b[1;33m\u001b[0m\u001b[0m\n",
      "\u001b[1;32m~\\Anaconda3\\envs\\MoNet\\lib\\site-packages\\matplotlib\\pyplot.py\u001b[0m in \u001b[0;36mplot\u001b[1;34m(*args, **kwargs)\u001b[0m\n\u001b[0;32m   3361\u001b[0m                       mplDeprecation)\n\u001b[0;32m   3362\u001b[0m     \u001b[1;32mtry\u001b[0m\u001b[1;33m:\u001b[0m\u001b[1;33m\u001b[0m\u001b[0m\n\u001b[1;32m-> 3363\u001b[1;33m         \u001b[0mret\u001b[0m \u001b[1;33m=\u001b[0m \u001b[0max\u001b[0m\u001b[1;33m.\u001b[0m\u001b[0mplot\u001b[0m\u001b[1;33m(\u001b[0m\u001b[1;33m*\u001b[0m\u001b[0margs\u001b[0m\u001b[1;33m,\u001b[0m \u001b[1;33m**\u001b[0m\u001b[0mkwargs\u001b[0m\u001b[1;33m)\u001b[0m\u001b[1;33m\u001b[0m\u001b[0m\n\u001b[0m\u001b[0;32m   3364\u001b[0m     \u001b[1;32mfinally\u001b[0m\u001b[1;33m:\u001b[0m\u001b[1;33m\u001b[0m\u001b[0m\n\u001b[0;32m   3365\u001b[0m         \u001b[0max\u001b[0m\u001b[1;33m.\u001b[0m\u001b[0m_hold\u001b[0m \u001b[1;33m=\u001b[0m \u001b[0mwashold\u001b[0m\u001b[1;33m\u001b[0m\u001b[0m\n",
      "\u001b[1;32m~\\Anaconda3\\envs\\MoNet\\lib\\site-packages\\matplotlib\\__init__.py\u001b[0m in \u001b[0;36minner\u001b[1;34m(ax, *args, **kwargs)\u001b[0m\n\u001b[0;32m   1865\u001b[0m                         \u001b[1;34m\"the Matplotlib list!)\"\u001b[0m \u001b[1;33m%\u001b[0m \u001b[1;33m(\u001b[0m\u001b[0mlabel_namer\u001b[0m\u001b[1;33m,\u001b[0m \u001b[0mfunc\u001b[0m\u001b[1;33m.\u001b[0m\u001b[0m__name__\u001b[0m\u001b[1;33m)\u001b[0m\u001b[1;33m,\u001b[0m\u001b[1;33m\u001b[0m\u001b[0m\n\u001b[0;32m   1866\u001b[0m                         RuntimeWarning, stacklevel=2)\n\u001b[1;32m-> 1867\u001b[1;33m             \u001b[1;32mreturn\u001b[0m \u001b[0mfunc\u001b[0m\u001b[1;33m(\u001b[0m\u001b[0max\u001b[0m\u001b[1;33m,\u001b[0m \u001b[1;33m*\u001b[0m\u001b[0margs\u001b[0m\u001b[1;33m,\u001b[0m \u001b[1;33m**\u001b[0m\u001b[0mkwargs\u001b[0m\u001b[1;33m)\u001b[0m\u001b[1;33m\u001b[0m\u001b[0m\n\u001b[0m\u001b[0;32m   1868\u001b[0m \u001b[1;33m\u001b[0m\u001b[0m\n\u001b[0;32m   1869\u001b[0m         inner.__doc__ = _add_data_doc(inner.__doc__,\n",
      "\u001b[1;32m~\\Anaconda3\\envs\\MoNet\\lib\\site-packages\\matplotlib\\axes\\_axes.py\u001b[0m in \u001b[0;36mplot\u001b[1;34m(self, *args, **kwargs)\u001b[0m\n\u001b[0;32m   1526\u001b[0m         \u001b[0mkwargs\u001b[0m \u001b[1;33m=\u001b[0m \u001b[0mcbook\u001b[0m\u001b[1;33m.\u001b[0m\u001b[0mnormalize_kwargs\u001b[0m\u001b[1;33m(\u001b[0m\u001b[0mkwargs\u001b[0m\u001b[1;33m,\u001b[0m \u001b[0m_alias_map\u001b[0m\u001b[1;33m)\u001b[0m\u001b[1;33m\u001b[0m\u001b[0m\n\u001b[0;32m   1527\u001b[0m \u001b[1;33m\u001b[0m\u001b[0m\n\u001b[1;32m-> 1528\u001b[1;33m         \u001b[1;32mfor\u001b[0m \u001b[0mline\u001b[0m \u001b[1;32min\u001b[0m \u001b[0mself\u001b[0m\u001b[1;33m.\u001b[0m\u001b[0m_get_lines\u001b[0m\u001b[1;33m(\u001b[0m\u001b[1;33m*\u001b[0m\u001b[0margs\u001b[0m\u001b[1;33m,\u001b[0m \u001b[1;33m**\u001b[0m\u001b[0mkwargs\u001b[0m\u001b[1;33m)\u001b[0m\u001b[1;33m:\u001b[0m\u001b[1;33m\u001b[0m\u001b[0m\n\u001b[0m\u001b[0;32m   1529\u001b[0m             \u001b[0mself\u001b[0m\u001b[1;33m.\u001b[0m\u001b[0madd_line\u001b[0m\u001b[1;33m(\u001b[0m\u001b[0mline\u001b[0m\u001b[1;33m)\u001b[0m\u001b[1;33m\u001b[0m\u001b[0m\n\u001b[0;32m   1530\u001b[0m             \u001b[0mlines\u001b[0m\u001b[1;33m.\u001b[0m\u001b[0mappend\u001b[0m\u001b[1;33m(\u001b[0m\u001b[0mline\u001b[0m\u001b[1;33m)\u001b[0m\u001b[1;33m\u001b[0m\u001b[0m\n",
      "\u001b[1;32m~\\Anaconda3\\envs\\MoNet\\lib\\site-packages\\matplotlib\\axes\\_base.py\u001b[0m in \u001b[0;36m_grab_next_args\u001b[1;34m(self, *args, **kwargs)\u001b[0m\n\u001b[0;32m    404\u001b[0m                 \u001b[0mthis\u001b[0m \u001b[1;33m+=\u001b[0m \u001b[0margs\u001b[0m\u001b[1;33m[\u001b[0m\u001b[1;36m0\u001b[0m\u001b[1;33m]\u001b[0m\u001b[1;33m,\u001b[0m\u001b[1;33m\u001b[0m\u001b[0m\n\u001b[0;32m    405\u001b[0m                 \u001b[0margs\u001b[0m \u001b[1;33m=\u001b[0m \u001b[0margs\u001b[0m\u001b[1;33m[\u001b[0m\u001b[1;36m1\u001b[0m\u001b[1;33m:\u001b[0m\u001b[1;33m]\u001b[0m\u001b[1;33m\u001b[0m\u001b[0m\n\u001b[1;32m--> 406\u001b[1;33m             \u001b[1;32mfor\u001b[0m \u001b[0mseg\u001b[0m \u001b[1;32min\u001b[0m \u001b[0mself\u001b[0m\u001b[1;33m.\u001b[0m\u001b[0m_plot_args\u001b[0m\u001b[1;33m(\u001b[0m\u001b[0mthis\u001b[0m\u001b[1;33m,\u001b[0m \u001b[0mkwargs\u001b[0m\u001b[1;33m)\u001b[0m\u001b[1;33m:\u001b[0m\u001b[1;33m\u001b[0m\u001b[0m\n\u001b[0m\u001b[0;32m    407\u001b[0m                 \u001b[1;32myield\u001b[0m \u001b[0mseg\u001b[0m\u001b[1;33m\u001b[0m\u001b[0m\n\u001b[0;32m    408\u001b[0m \u001b[1;33m\u001b[0m\u001b[0m\n",
      "\u001b[1;32m~\\Anaconda3\\envs\\MoNet\\lib\\site-packages\\matplotlib\\axes\\_base.py\u001b[0m in \u001b[0;36m_plot_args\u001b[1;34m(self, tup, kwargs)\u001b[0m\n\u001b[0;32m    381\u001b[0m             \u001b[0mx\u001b[0m\u001b[1;33m,\u001b[0m \u001b[0my\u001b[0m \u001b[1;33m=\u001b[0m \u001b[0mindex_of\u001b[0m\u001b[1;33m(\u001b[0m\u001b[0mtup\u001b[0m\u001b[1;33m[\u001b[0m\u001b[1;33m-\u001b[0m\u001b[1;36m1\u001b[0m\u001b[1;33m]\u001b[0m\u001b[1;33m)\u001b[0m\u001b[1;33m\u001b[0m\u001b[0m\n\u001b[0;32m    382\u001b[0m \u001b[1;33m\u001b[0m\u001b[0m\n\u001b[1;32m--> 383\u001b[1;33m         \u001b[0mx\u001b[0m\u001b[1;33m,\u001b[0m \u001b[0my\u001b[0m \u001b[1;33m=\u001b[0m \u001b[0mself\u001b[0m\u001b[1;33m.\u001b[0m\u001b[0m_xy_from_xy\u001b[0m\u001b[1;33m(\u001b[0m\u001b[0mx\u001b[0m\u001b[1;33m,\u001b[0m \u001b[0my\u001b[0m\u001b[1;33m)\u001b[0m\u001b[1;33m\u001b[0m\u001b[0m\n\u001b[0m\u001b[0;32m    384\u001b[0m \u001b[1;33m\u001b[0m\u001b[0m\n\u001b[0;32m    385\u001b[0m         \u001b[1;32mif\u001b[0m \u001b[0mself\u001b[0m\u001b[1;33m.\u001b[0m\u001b[0mcommand\u001b[0m \u001b[1;33m==\u001b[0m \u001b[1;34m'plot'\u001b[0m\u001b[1;33m:\u001b[0m\u001b[1;33m\u001b[0m\u001b[0m\n",
      "\u001b[1;32m~\\Anaconda3\\envs\\MoNet\\lib\\site-packages\\matplotlib\\axes\\_base.py\u001b[0m in \u001b[0;36m_xy_from_xy\u001b[1;34m(self, x, y)\u001b[0m\n\u001b[0;32m    240\u001b[0m         \u001b[1;32mif\u001b[0m \u001b[0mx\u001b[0m\u001b[1;33m.\u001b[0m\u001b[0mshape\u001b[0m\u001b[1;33m[\u001b[0m\u001b[1;36m0\u001b[0m\u001b[1;33m]\u001b[0m \u001b[1;33m!=\u001b[0m \u001b[0my\u001b[0m\u001b[1;33m.\u001b[0m\u001b[0mshape\u001b[0m\u001b[1;33m[\u001b[0m\u001b[1;36m0\u001b[0m\u001b[1;33m]\u001b[0m\u001b[1;33m:\u001b[0m\u001b[1;33m\u001b[0m\u001b[0m\n\u001b[0;32m    241\u001b[0m             raise ValueError(\"x and y must have same first dimension, but \"\n\u001b[1;32m--> 242\u001b[1;33m                              \"have shapes {} and {}\".format(x.shape, y.shape))\n\u001b[0m\u001b[0;32m    243\u001b[0m         \u001b[1;32mif\u001b[0m \u001b[0mx\u001b[0m\u001b[1;33m.\u001b[0m\u001b[0mndim\u001b[0m \u001b[1;33m>\u001b[0m \u001b[1;36m2\u001b[0m \u001b[1;32mor\u001b[0m \u001b[0my\u001b[0m\u001b[1;33m.\u001b[0m\u001b[0mndim\u001b[0m \u001b[1;33m>\u001b[0m \u001b[1;36m2\u001b[0m\u001b[1;33m:\u001b[0m\u001b[1;33m\u001b[0m\u001b[0m\n\u001b[0;32m    244\u001b[0m             raise ValueError(\"x and y can be no greater than 2-D, but have \"\n",
      "\u001b[1;31mValueError\u001b[0m: x and y must have same first dimension, but have shapes (11,) and (0,)"
     ]
    },
    {
     "data": {
      "image/png": "[encoded data removed]",
      "text/plain": [
       "<Figure size 432x288 with 1 Axes>"
      ]
     },
     "metadata": {
      "needs_background": "light"
     },
     "output_type": "display_data"
    }
   ],
   "source": [
    "plt.figure()\n",
    "max_val_acc = []\n",
    "\n",
    "path_to_folder = \"/c/monet/monet/src/\"\n",
    "matching_files = glob.glob(path_to_folder+\"*_history.txt*\")\n",
    "\n",
    "print(matching_files)\n",
    "for file in matching_files:\n",
    "    with open(file, 'rb') as handle:\n",
    "        history = pickle.loads(handle.read())\n",
    "        train_loss = history['loss']\n",
    "        val_loss   = history['val_loss']\n",
    "        train_acc  = history['acc']\n",
    "        val_acc    = history['val_acc']\n",
    "        \n",
    "        max_val_acc.append(max(val_acc))\n",
    "\n",
    "# with open(f'300_history.txt', 'rb') as handle:\n",
    "#     history = pickle.loads(handle.read())\n",
    "#     val_acc    = history['val_acc']\n",
    "#     max_val_acc.append(max(val_acc))\n",
    "\n",
    "# with open(f'31_history.txt', 'rb') as handle:\n",
    "#     history = pickle.loads(handle.read())\n",
    "#     val_acc    = history['val_acc']\n",
    "#     max_val_acc.append(max(val_acc))\n",
    "\n",
    "print(max_val_acc)\n",
    "\n",
    "plt.xlabel(\"number of training steps\")\n",
    "plt.ylabel(\"validation accuracy\")\n",
    "plt.title(\"Training steps vs max validation accuracy\")\n",
    "plt.plot(list(range(10, 101, 10)) + [300],max_val_acc)\n",
    "\n",
    "#         plt.plot(xc, val_loss, label=\"validation loss\")\n",
    "#         plt.legend()"
   ]
  },
  {
   "cell_type": "code",
   "execution_count": 22,
   "metadata": {},
   "outputs": [],
   "source": [
    "def classification_on_sim(net_file, num_steps):\n",
    "    dx,label=generate_sim(batchsize=100,steps=num_steps,T=15,sigma=0.00)\n",
    "    ### change here to load a different network model\n",
    "    print(dx)\n",
    "    N=np.shape(dx)[0]\n",
    "#     net_file = './Models/model_testsigma0-wB-6layern-300-variance-FBMCTRW.h5'\n",
    "    model = load_model(net_file)\n",
    "    predictions = []\n",
    "    for j in range(N):\n",
    "        dummy = np.zeros((1,num_steps-1,1))\n",
    "        dummy[0,:,:] = dx[j,:,:]\n",
    "        y_pred = model.predict(dummy) # get the results for 1D \n",
    "        print(y_pred)\n",
    "        ymean = np.mean(y_pred,axis=0) # calculate mean prediction of N-dimensional trajectory \n",
    "        prediction = np.argmax(ymean,axis=0) # translate to classification\n",
    "        predictions.append(prediction)\n",
    "\n",
    "    accuracy = 100 * np.sum([1 if label[i] == predictions[i] else 0 for i in range(len(label))]) / len(label)\n",
    "    return accuracy\n"
   ]
  },
  {
   "cell_type": "code",
   "execution_count": 23,
   "metadata": {
    "scrolled": false
   },
   "outputs": [
    {
     "name": "stdout",
     "output_type": "stream",
     "text": [
      "[[[ 0.        ]\n",
      "  [ 0.        ]\n",
      "  [ 0.        ]\n",
      "  ...\n",
      "  [ 0.        ]\n",
      "  [ 0.        ]\n",
      "  [ 0.        ]]\n",
      "\n",
      " [[ 0.        ]\n",
      "  [ 0.10077603]\n",
      "  [ 1.01492113]\n",
      "  ...\n",
      "  [ 0.        ]\n",
      "  [ 0.        ]\n",
      "  [ 0.        ]]\n",
      "\n",
      " [[-2.33335373]\n",
      "  [ 0.        ]\n",
      "  [ 0.        ]\n",
      "  ...\n",
      "  [ 0.        ]\n",
      "  [ 0.        ]\n",
      "  [ 0.        ]]\n",
      "\n",
      " ...\n",
      "\n",
      " [[ 0.        ]\n",
      "  [ 0.        ]\n",
      "  [ 0.        ]\n",
      "  ...\n",
      "  [ 0.        ]\n",
      "  [ 0.        ]\n",
      "  [ 0.        ]]\n",
      "\n",
      " [[-0.3988092 ]\n",
      "  [ 0.40503002]\n",
      "  [-0.43279118]\n",
      "  ...\n",
      "  [ 0.27990043]\n",
      "  [-0.27671639]\n",
      "  [ 0.50046888]]\n",
      "\n",
      " [[ 0.        ]\n",
      "  [ 0.        ]\n",
      "  [ 0.        ]\n",
      "  ...\n",
      "  [ 0.        ]\n",
      "  [ 0.        ]\n",
      "  [ 0.        ]]]\n",
      "[[0.18749148 0.33819774 0.47431076]]\n",
      "[[0.00462613 0.02028624 0.97508764]]\n",
      "[[0.00185184 0.00700784 0.9911403 ]]\n",
      "[[0.18749148 0.33819774 0.47431076]]\n",
      "[[0.43998116 0.52153945 0.03847945]]\n",
      "[[0.18749148 0.33819774 0.47431076]]\n",
      "[[0.52524626 0.42791384 0.04683989]]\n",
      "[[0.40487963 0.39813885 0.19698149]]\n",
      "[[0.18749148 0.33819774 0.47431076]]\n",
      "[[0.3541185  0.51471114 0.13117042]]\n",
      "[[0.18749148 0.33819774 0.47431076]]\n",
      "[[0.89862096 0.09798702 0.00339197]]\n",
      "[[0.46708593 0.48240894 0.05050516]]\n",
      "[[0.18749148 0.33819774 0.47431076]]\n",
      "[[0.4035242  0.5538416  0.04263426]]\n",
      "[[7.2050100e-04 6.2171514e-03 9.9306232e-01]]\n",
      "[[8.5182639e-10 1.5846545e-09 1.0000000e+00]]\n",
      "[[6.842143e-12 5.193878e-10 1.000000e+00]]\n",
      "[[0.61920005 0.3560771  0.02472282]]\n",
      "[[0.18749148 0.33819774 0.47431076]]\n",
      "[[0.61690325 0.3660339  0.01706288]]\n",
      "[[0.18749148 0.33819774 0.47431076]]\n",
      "[[0.9358396  0.06118912 0.00297128]]\n",
      "[[2.1811162e-11 6.5707974e-11 1.0000000e+00]]\n",
      "[[0.4896587  0.38349208 0.12684914]]\n",
      "[[1.4079455e-09 2.2729495e-07 9.9999976e-01]]\n",
      "[[4.829313e-13 8.024460e-12 1.000000e+00]]\n",
      "[[1.3692791e-09 9.9385453e-08 9.9999988e-01]]\n",
      "[[0.18749148 0.33819774 0.47431076]]\n",
      "[[0.03926452 0.0130382  0.9476973 ]]\n",
      "[[0.39694142 0.47180265 0.13125585]]\n",
      "[[1.0159552e-07 1.0189913e-09 9.9999988e-01]]\n",
      "[[0.18749148 0.33819774 0.47431076]]\n",
      "[[2.8737104e-13 8.7129444e-12 1.0000000e+00]]\n",
      "[[0.518274   0.40159324 0.08013283]]\n",
      "[[0.546398   0.41934678 0.03425529]]\n",
      "[[0.18749148 0.33819774 0.47431076]]\n",
      "[[0.36304095 0.4981492  0.13880984]]\n",
      "[[2.4214953e-04 3.1336359e-04 9.9944443e-01]]\n",
      "[[0.18749148 0.33819774 0.47431076]]\n",
      "[[0.18749148 0.33819774 0.47431076]]\n",
      "[[1.5037431e-05 2.1843525e-06 9.9998283e-01]]\n",
      "[[0.23069446 0.48555997 0.28374553]]\n",
      "[[0.18749148 0.33819774 0.47431076]]\n",
      "[[0.18749148 0.33819774 0.47431076]]\n",
      "[[0.6053798  0.3594392  0.03518094]]\n",
      "[[0.18749148 0.33819774 0.47431076]]\n",
      "[[0.18749148 0.33819774 0.47431076]]\n",
      "[[0.24236824 0.49339324 0.26423848]]\n",
      "[[2.7527203e-09 4.9759361e-09 1.0000000e+00]]\n",
      "[[0.5779401  0.40636036 0.01569951]]\n",
      "[[0.18749148 0.33819774 0.47431076]]\n",
      "[[0.18749148 0.33819774 0.47431076]]\n",
      "[[0.20990784 0.44907305 0.34101912]]\n",
      "[[0.6649128  0.3151494  0.01993774]]\n",
      "[[0.75577796 0.2316387  0.01258335]]\n",
      "[[0.32297018 0.47286323 0.20416655]]\n",
      "[[0.24564645 0.47111952 0.28323406]]\n",
      "[[0.23957776 0.47226292 0.2881593 ]]\n",
      "[[0.18749148 0.33819774 0.47431076]]\n",
      "[[2.9052484e-11 1.3044200e-15 1.0000000e+00]]\n",
      "[[1.0161537e-09 1.0671211e-07 9.9999988e-01]]\n",
      "[[1.3143117e-04 6.9680922e-02 9.3018764e-01]]\n",
      "[[0.18749148 0.33819774 0.47431076]]\n",
      "[[0.3132308  0.5135884  0.17318079]]\n",
      "[[0.25718695 0.5077636  0.23504949]]\n",
      "[[0.2766843  0.5326624  0.19065331]]\n",
      "[[0.18749148 0.33819774 0.47431076]]\n",
      "[[0.18749148 0.33819774 0.47431076]]\n",
      "[[0.04082716 0.30744094 0.65173197]]\n",
      "[[2.0792058e-06 6.8549497e-07 9.9999726e-01]]\n",
      "[[0.18749148 0.33819774 0.47431076]]\n",
      "[[2.7769740e-16 1.2244185e-13 1.0000000e+00]]\n",
      "[[0.33419883 0.550036   0.11576512]]\n",
      "[[0.00103519 0.04522073 0.95374405]]\n",
      "[[8.2231246e-08 1.6910677e-07 9.9999976e-01]]\n",
      "[[8.4893572e-06 4.9182818e-05 9.9994230e-01]]\n",
      "[[0.02613731 0.95055294 0.02330972]]\n",
      "[[0.18749148 0.33819774 0.47431076]]\n",
      "[[0.18749148 0.33819774 0.47431076]]\n",
      "[[0.40097028 0.43811724 0.16091244]]\n",
      "[[9.6652242e-10 1.6584595e-09 1.0000000e+00]]\n",
      "[[1.5527238e-02 3.3054099e-04 9.8414224e-01]]\n",
      "[[0.18749148 0.33819774 0.47431076]]\n",
      "[[1.6557848e-05 2.5342456e-07 9.9998319e-01]]\n",
      "[[0.9105678  0.08514844 0.00428375]]\n",
      "[[0.609379   0.37339738 0.01722369]]\n",
      "[[0.18749148 0.33819774 0.47431076]]\n",
      "[[0.18749148 0.33819774 0.47431076]]\n",
      "[[1.3524796e-04 1.4230088e-04 9.9972242e-01]]\n",
      "[[0.18749148 0.33819774 0.47431076]]\n",
      "[[0.18749148 0.33819774 0.47431076]]\n",
      "[[3.1572377e-05 1.0542553e-05 9.9995792e-01]]\n",
      "[[0.2542963  0.574092   0.17161173]]\n",
      "[[3.1016307e-14 2.1665927e-14 1.0000000e+00]]\n",
      "[[0.5440808  0.431001   0.02491815]]\n",
      "[[2.4475751e-03 9.8612145e-06 9.9754262e-01]]\n",
      "[[0.18749148 0.33819774 0.47431076]]\n",
      "[[0.5123715  0.41813347 0.06949503]]\n",
      "[[0.18749148 0.33819774 0.47431076]]\n",
      "[48.0]\n"
     ]
    }
   ],
   "source": [
    "accuracies = []\n",
    "# for i in range(10, 101, 10):\n",
    "accuracies.append(classification_on_sim('./Models/300_model.h5', 300))\n",
    "print(accuracies)"
   ]
  },
  {
   "cell_type": "code",
   "execution_count": 9,
   "metadata": {},
   "outputs": [
    {
     "data": {
      "text/plain": [
       "[<matplotlib.lines.Line2D at 0x1e81c375a90>]"
      ]
     },
     "execution_count": 9,
     "metadata": {},
     "output_type": "execute_result"
    },
    {
     "data": {
      "image/png": "[encoded data removed]",
      "text/plain": [
       "<Figure size 432x288 with 1 Axes>"
      ]
     },
     "metadata": {
      "needs_background": "light"
     },
     "output_type": "display_data"
    }
   ],
   "source": [
    "plt.xlabel(\"Number of steps trained on\")\n",
    "plt.ylabel(\"test accuracy\")\n",
    "plt.title(\"Training steps vs Testing accuracy\")\n",
    "plt.plot(range(10, 101, 10),accuracies)\n"
   ]
  },
  {
   "cell_type": "code",
   "execution_count": null,
   "metadata": {},
   "outputs": [],
   "source": []
  }
 ],
 "metadata": {
  "kernelspec": {
   "display_name": "Python 3",
   "language": "python",
   "name": "python3"
  },
  "language_info": {
   "codemirror_mode": {
    "name": "ipython",
    "version": 3
   },
   "file_extension": ".py",
   "mimetype": "text/x-python",
   "name": "python",
   "nbconvert_exporter": "python",
   "pygments_lexer": "ipython3",
   "version": "3.6.6"
  }
 },
 "nbformat": 4,
 "nbformat_minor": 4
}
